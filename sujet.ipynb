{
 "cells": [
  {
   "cell_type": "markdown",
   "metadata": {},
   "source": [
    "# Test Python 02 - BACH TECH 24 - le 12/12/2024\n",
    "\n",
    "Nom / prénom : _"
   ]
  },
  {
   "cell_type": "markdown",
   "metadata": {},
   "source": [
    "## Exercice 1 : Génération d'un fichier avec les moyennes semestrielles\n",
    "\n",
    "### Objectif\n",
    "À partir des données contenues dans le fichier `notes.xlsx`, créer un fichier Excel nommé `semestre.xlsx` contenant une feuille par étudiant. Chaque feuille devra indiquer la moyenne semestrielle de l'étudiant dans chaque matière.\n",
    "\n",
    "### Étapes\n",
    "1. **Lecture des données :**\n",
    "   - Ouvrez le fichier `notes.xlsx` en utilisant la bibliothèque **openpyxl**.\n",
    "   - Les données de ce fichier sont structurées de manière identique au fichier CSV précédent, avec les colonnes : `Nom`, `Matière`, `Note`, `Date`.\n",
    "\n",
    "2. **Traitement des données :**\n",
    "   - Calculez la moyenne des notes pour chaque étudiant dans chacune des matières. Si un étudiant est \"absent\" ce test ne sera pas utilisé dans le calcul de la moyenne.\n",
    "\n",
    "3. **Création du fichier de sortie :**\n",
    "   - Créez un fichier Excel nommé `semestre.xlsx`.\n",
    "   - Ajoutez une feuille par étudiant (nom de la feuille : prénom de l'étudiant).\n",
    "   - Chaque feuille doit contenir un tableau avec les colonnes suivantes :\n",
    "     - `Matière`\n",
    "     - `Moyenne Semestre`\n",
    "\n",
    "4. **Formatage :**\n",
    "   - Ajoutez un titre clair en haut de chaque feuille indiquant le nom de l'étudiant.\n",
    "   - Formatez les moyennes avec deux décimales.\n",
    "\n",
    "### Exemple de contenu attendu pour une feuille (Alice) :\n",
    "#### Relevé de notes: Alice\n",
    "| Matière       | Moyenne Semestre |\n",
    "|---------------|------------------|\n",
    "| Mathématiques | 14.00           |\n",
    "| Chimie        | 12.00           |\n",
    "| Physique      | 14.00           |\n",
    "| Français      | 15.50           |\n",
    "| Histoire      | 17.00           |\n",
    "\n",
    "### Contraintes\n",
    "- Utilisez la bibliothèque **openpyxl** pour manipuler les fichiers Excel.\n",
    "- Assurez-vous que les moyennes soient correctement calculées et formatées.\n",
    "\n",
    "### Validation\n",
    "Le fichier `semestre.xlsx` doit contenir une feuille pour chaque étudiant avec les moyennes semestrielles dans toutes les matières.\n",
    "\n"
   ]
  },
  {
   "cell_type": "code",
   "execution_count": null,
   "metadata": {},
   "outputs": [],
   "source": [
    "# Code de l'exercice 1\n",
    "# Génération du fichier semestre.xlsx"
   ]
  }
 ],
 "metadata": {
  "kernelspec": {
   "display_name": "Python 3",
   "language": "python",
   "name": "python3"
  },
  "language_info": {
   "codemirror_mode": {
    "name": "ipython",
    "version": 3
   },
   "file_extension": ".py",
   "mimetype": "text/x-python",
   "name": "python",
   "nbconvert_exporter": "python",
   "pygments_lexer": "ipython3",
   "version": "3.8.10"
  }
 },
 "nbformat": 4,
 "nbformat_minor": 2
}
